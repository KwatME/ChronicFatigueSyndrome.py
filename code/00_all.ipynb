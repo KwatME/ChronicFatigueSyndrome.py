{
 "cells": [
  {
   "cell_type": "code",
   "execution_count": 6,
   "metadata": {},
   "outputs": [
    {
     "name": "stdout",
     "output_type": "stream",
     "text": [
      "The autoreload extension is already loaded. To reload it, use:\n",
      "  %reload_ext autoreload\n"
     ]
    }
   ],
   "source": [
    "%load_ext autoreload\n",
    "%autoreload 2"
   ]
  },
  {
   "cell_type": "code",
   "execution_count": 7,
   "metadata": {},
   "outputs": [],
   "source": [
    "import os\n",
    "import re\n",
    "\n",
    "import pandas as pd\n",
    "\n",
    "import kraft"
   ]
  },
  {
   "cell_type": "code",
   "execution_count": 8,
   "metadata": {},
   "outputs": [],
   "source": [
    "SETTING = kraft.json.read(\"setting.json\")"
   ]
  },
  {
   "cell_type": "code",
   "execution_count": 9,
   "metadata": {},
   "outputs": [],
   "source": [
    "notebooks = sorted(\n",
    "    (notebook for notebook in os.listdir() if re.match(r\"^[^._].+\\.ipynb$\", notebook))\n",
    ")\n",
    "\n",
    "notebooks.remove(\"00_all.ipynb\")"
   ]
  },
  {
   "cell_type": "code",
   "execution_count": 10,
   "metadata": {},
   "outputs": [
    {
     "name": "stdout",
     "output_type": "stream",
     "text": [
      "jupyter nbconvert --execute --ExecutePreprocessor.timeout=-1 --inplace 01_gse14577.ipynb\n",
      "jupyter nbconvert --execute --ExecutePreprocessor.timeout=-1 --inplace 02_gse16059.ipynb\n",
      "jupyter nbconvert --execute --ExecutePreprocessor.timeout=-1 --inplace 03_gse59489.ipynb\n",
      "jupyter nbconvert --execute --ExecutePreprocessor.timeout=-1 --inplace 04_gse67311.ipynb\n",
      "jupyter nbconvert --execute --ExecutePreprocessor.timeout=-1 --inplace 05_gse111183.ipynb\n",
      "jupyter nbconvert --execute --ExecutePreprocessor.timeout=-1 --inplace 06_gse128078.ipynb\n",
      "jupyter nbconvert --execute --ExecutePreprocessor.timeout=-1 --inplace 07_gse130353.ipynb\n",
      "jupyter nbconvert --execute --ExecutePreprocessor.timeout=-1 --inplace 08_gse153667.ipynb\n"
     ]
    }
   ],
   "source": [
    "for notebook in notebooks:\n",
    "\n",
    "    kraft.shell.command(\n",
    "        \"jupyter nbconvert --execute --ExecutePreprocessor.timeout=-1 --inplace {}\".format(\n",
    "            notebook\n",
    "        )\n",
    "    )"
   ]
  }
 ],
 "metadata": {
  "@webio": {
   "lastCommId": null,
   "lastKernelId": null
  },
  "kernelspec": {
   "display_name": "Python 3",
   "language": "python",
   "name": "python3"
  },
  "language_info": {
   "codemirror_mode": {
    "name": "ipython",
    "version": 3
   },
   "file_extension": ".py",
   "mimetype": "text/x-python",
   "name": "python",
   "nbconvert_exporter": "python",
   "pygments_lexer": "ipython3",
   "version": "3.7.8"
  }
 },
 "nbformat": 4,
 "nbformat_minor": 4
}
