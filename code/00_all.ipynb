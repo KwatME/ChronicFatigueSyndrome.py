{
 "cells": [
  {
   "cell_type": "code",
   "execution_count": 1,
   "metadata": {},
   "outputs": [],
   "source": [
    "from __init__ import *"
   ]
  },
  {
   "cell_type": "code",
   "execution_count": 2,
   "metadata": {},
   "outputs": [],
   "source": [
    "notebook_name_ = sorted(\n",
    "    (name for name in os.listdir() if re.match(r\"^[^._].+\\.ipynb$\", name))\n",
    ")\n",
    "\n",
    "notebook_name_.remove(\"00_all.ipynb\")"
   ]
  },
  {
   "cell_type": "code",
   "execution_count": 3,
   "metadata": {},
   "outputs": [
    {
     "name": "stdout",
     "output_type": "stream",
     "text": [
      "jupyter nbconvert --execute --ExecutePreprocessor.timeout=-1 --inplace 01_gse14577.ipynb\n",
      "jupyter nbconvert --execute --ExecutePreprocessor.timeout=-1 --inplace 02_gse16059.ipynb\n",
      "jupyter nbconvert --execute --ExecutePreprocessor.timeout=-1 --inplace 03_gse59489.ipynb\n",
      "jupyter nbconvert --execute --ExecutePreprocessor.timeout=-1 --inplace 04_gse67311.ipynb\n",
      "jupyter nbconvert --execute --ExecutePreprocessor.timeout=-1 --inplace 05_gse111183.ipynb\n",
      "jupyter nbconvert --execute --ExecutePreprocessor.timeout=-1 --inplace 06_gse128078.ipynb\n",
      "jupyter nbconvert --execute --ExecutePreprocessor.timeout=-1 --inplace 07_gse130353.ipynb\n",
      "jupyter nbconvert --execute --ExecutePreprocessor.timeout=-1 --inplace 08_gse153667.ipynb\n"
     ]
    }
   ],
   "source": [
    "for name in notebook_name_:\n",
    "\n",
    "    kraft.shell.command(\n",
    "        \"jupyter nbconvert --execute --ExecutePreprocessor.timeout=-1 --inplace {}\".format(\n",
    "            name\n",
    "        )\n",
    "    )"
   ]
  }
 ],
 "metadata": {
  "@webio": {
   "lastCommId": null,
   "lastKernelId": null
  },
  "kernelspec": {
   "display_name": "Python 3",
   "language": "python",
   "name": "python3"
  },
  "language_info": {
   "codemirror_mode": {
    "name": "ipython",
    "version": 3
   },
   "file_extension": ".py",
   "mimetype": "text/x-python",
   "name": "python",
   "nbconvert_exporter": "python",
   "pygments_lexer": "ipython3",
   "version": "3.7.8"
  }
 },
 "nbformat": 4,
 "nbformat_minor": 4
}
