{
 "cells": [
  {
   "cell_type": "code",
   "execution_count": null,
   "metadata": {},
   "outputs": [],
   "source": [
    "%load_ext autoreload\n",
    "%autoreload 2"
   ]
  },
  {
   "cell_type": "code",
   "execution_count": null,
   "metadata": {},
   "outputs": [],
   "source": [
    "import pandas as pd\n",
    "\n",
    "import kraft"
   ]
  },
  {
   "cell_type": "code",
   "execution_count": null,
   "metadata": {},
   "outputs": [],
   "source": [
    "SETTING = kraft.json.read(\"setting.json\")"
   ]
  },
  {
   "cell_type": "markdown",
   "metadata": {},
   "source": [
    "https://www.ncbi.nlm.nih.gov/geo/query/acc.cgi?acc=GSE128078"
   ]
  },
  {
   "cell_type": "code",
   "execution_count": null,
   "metadata": {},
   "outputs": [],
   "source": [
    "_x_samples = kraft.geo.get_gse(\n",
    "    \"GSE128078\", SETTING[\"data_directory_path\"], overwrite=False\n",
    ")"
   ]
  },
  {
   "cell_type": "code",
   "execution_count": null,
   "metadata": {},
   "outputs": [],
   "source": [
    "feature_x_sample = _x_samples[0]\n",
    "\n",
    "feature_x_sample"
   ]
  },
  {
   "cell_type": "code",
   "execution_count": null,
   "metadata": {},
   "outputs": [],
   "source": [
    "file_path = kraft.internet.download(\n",
    "    \"https://www.ncbi.nlm.nih.gov/geo/download/?acc=GSE128078&format=file&file=GSE128078%5FFES%5Fisoforms%5FFPKM%2Etxt%2Egz\",\n",
    "    SETTING[\"data_directory_path\"],\n",
    "    overwrite=False,\n",
    ")"
   ]
  },
  {
   "cell_type": "code",
   "execution_count": null,
   "metadata": {},
   "outputs": [],
   "source": [
    "gene_x_sample = pd.read_csv(file_path, sep=\"\\t\", index_col=0)\n",
    "\n",
    "gene_x_sample.index = kraft.name_biology.name_genes(gene_x_sample.index.to_numpy())\n",
    "\n",
    "gene_x_sample.index.name = \"Gene\"\n",
    "\n",
    "print(gene_x_sample.shape)\n",
    "\n",
    "gene_x_sample = gene_x_sample.loc[~gene_x_sample.index.isna(), :]\n",
    "\n",
    "print(gene_x_sample.shape)\n",
    "\n",
    "gene_x_sample = gene_x_sample.groupby(level=0).median()\n",
    "\n",
    "print(gene_x_sample.shape)\n",
    "\n",
    "gene_x_sample"
   ]
  }
 ],
 "metadata": {
  "kernelspec": {
   "display_name": "Python 3",
   "language": "python",
   "name": "python3"
  },
  "language_info": {
   "codemirror_mode": {
    "name": "ipython",
    "version": 3
   },
   "file_extension": ".py",
   "mimetype": "text/x-python",
   "name": "python",
   "nbconvert_exporter": "python",
   "pygments_lexer": "ipython3",
   "version": "3.7.8"
  }
 },
 "nbformat": 4,
 "nbformat_minor": 4
}
