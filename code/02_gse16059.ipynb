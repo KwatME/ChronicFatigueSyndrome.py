{
 "cells": [
  {
   "cell_type": "markdown",
   "metadata": {},
   "source": [
    "https://www.ncbi.nlm.nih.gov/geo/query/acc.cgi?acc=GSE16059"
   ]
  },
  {
   "cell_type": "code",
   "execution_count": null,
   "metadata": {},
   "outputs": [],
   "source": [
    "from __init__ import *"
   ]
  },
  {
   "cell_type": "code",
   "execution_count": null,
   "metadata": {},
   "outputs": [],
   "source": [
    "gse_id = \"GSE16059\""
   ]
  },
  {
   "cell_type": "code",
   "execution_count": null,
   "metadata": {},
   "outputs": [],
   "source": [
    "file_path_format = \"{}/{}_{{}}_x_sample.tsv\".format(SETTING[\"directory_path\"], gse_id)"
   ]
  },
  {
   "cell_type": "code",
   "execution_count": null,
   "metadata": {},
   "outputs": [],
   "source": [
    "_x_samples = kraft.geo.get_gse(\n",
    "    gse_id, SETTING[\"directory_path\"], overwrite=SETTING[\"overwrite\"]\n",
    ")"
   ]
  },
  {
   "cell_type": "code",
   "execution_count": null,
   "metadata": {},
   "outputs": [],
   "source": [
    "binary_feature_x_sample = pd.concat(\n",
    "    (\n",
    "        _x_samples[2],\n",
    "        kraft.table.binarize(\n",
    "            _x_samples[1].loc[\"twin pair\", :].astype(int).apply(\"twins.{}\".format)\n",
    "        ),\n",
    "    )\n",
    ")\n",
    "\n",
    "binary_feature_x_sample.to_csv(file_path_format.format(\"binary_feature\"), sep=\"\\t\")\n",
    "\n",
    "binary_feature_x_sample"
   ]
  },
  {
   "cell_type": "code",
   "execution_count": null,
   "metadata": {},
   "outputs": [],
   "source": [
    "gene_x_sample = _x_samples[3]\n",
    "\n",
    "gene_x_sample.to_csv(file_path_format.format(\"gene\"), sep=\"\\t\")\n",
    "\n",
    "gene_x_sample"
   ]
  }
 ],
 "metadata": {
  "kernelspec": {
   "display_name": "Python 3",
   "language": "python",
   "name": "python3"
  },
  "language_info": {
   "codemirror_mode": {
    "name": "ipython",
    "version": 3
   },
   "file_extension": ".py",
   "mimetype": "text/x-python",
   "name": "python",
   "nbconvert_exporter": "python",
   "pygments_lexer": "ipython3",
   "version": "3.7.8"
  }
 },
 "nbformat": 4,
 "nbformat_minor": 4
}
