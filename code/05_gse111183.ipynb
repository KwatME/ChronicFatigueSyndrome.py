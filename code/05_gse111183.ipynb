{
 "cells": [
  {
   "cell_type": "markdown",
   "metadata": {},
   "source": [
    "https://www.ncbi.nlm.nih.gov/geo/query/acc.cgi?acc=GSE111183"
   ]
  },
  {
   "cell_type": "code",
   "execution_count": null,
   "metadata": {},
   "outputs": [],
   "source": [
    "%load_ext autoreload\n",
    "%autoreload 2"
   ]
  },
  {
   "cell_type": "code",
   "execution_count": null,
   "metadata": {},
   "outputs": [],
   "source": [
    "import numpy as np\n",
    "import pandas as pd\n",
    "\n",
    "import kraft"
   ]
  },
  {
   "cell_type": "code",
   "execution_count": null,
   "metadata": {},
   "outputs": [],
   "source": [
    "SETTING = kraft.json.read(\"setting.json\")"
   ]
  },
  {
   "cell_type": "code",
   "execution_count": null,
   "metadata": {},
   "outputs": [],
   "source": [
    "_x_samples = kraft.geo.get_gse(\n",
    "    \"GSE111183\", SETTING[\"data_directory_path\"], overwrite=SETTING[\"overwrite\"]\n",
    ")"
   ]
  },
  {
   "cell_type": "code",
   "execution_count": null,
   "metadata": {},
   "outputs": [],
   "source": [
    "gene_x_sample = _x_samples[3]\n",
    "\n",
    "gene_x_sample"
   ]
  },
  {
   "cell_type": "code",
   "execution_count": null,
   "metadata": {},
   "outputs": [],
   "source": [
    "file_path = kraft.internet.download(\n",
    "    \"ftp://ftp.ncbi.nlm.nih.gov/geo/series/GSE111nnn/GSE111183/suppl/GSE111183%5Fsignal%5Fintensities%2Etxt%2Egz\",\n",
    "    SETTING[\"data_directory_path\"],\n",
    "    overwrite=SETTING[\"overwrite\"],\n",
    ")"
   ]
  },
  {
   "cell_type": "code",
   "execution_count": null,
   "metadata": {},
   "outputs": [],
   "source": [
    "cg_x_sample = pd.read_csv(file_path, sep=\"\\t\", index_col=0)\n",
    "\n",
    "cg_x_sample"
   ]
  },
  {
   "cell_type": "code",
   "execution_count": null,
   "metadata": {},
   "outputs": [],
   "source": [
    "matrix = cg_x_sample.to_numpy().T + 1\n",
    "\n",
    "samples = [matrix[i + 1] / matrix[i] for i in range(0, len(matrix), 3)]\n",
    "\n",
    "cg_x_sample = pd.DataFrame(\n",
    "    data=np.asarray(samples).T, index=cg_x_sample.index, columns=gene_x_sample.columns,\n",
    ")\n",
    "\n",
    "cg_gene_x_sample = pd.DataFrame(\n",
    "    data=cg_x_sample.to_numpy(),\n",
    "    index=kraft.name_biology.name_genes(cg_x_sample.index.to_numpy()),\n",
    "    columns=cg_x_sample.columns,\n",
    ")\n",
    "\n",
    "cg_gene_x_sample.index.name = \"Gene\"\n",
    "\n",
    "cg_gene_x_sample = kraft.feature_x_sample.collapse(cg_gene_x_sample)\n",
    "\n",
    "cg_gene_x_sample"
   ]
  }
 ],
 "metadata": {
  "kernelspec": {
   "display_name": "Python 3",
   "language": "python",
   "name": "python3"
  },
  "language_info": {
   "codemirror_mode": {
    "name": "ipython",
    "version": 3
   },
   "file_extension": ".py",
   "mimetype": "text/x-python",
   "name": "python",
   "nbconvert_exporter": "python",
   "pygments_lexer": "ipython3",
   "version": "3.7.8"
  }
 },
 "nbformat": 4,
 "nbformat_minor": 4
}
