{
 "cells": [
  {
   "cell_type": "markdown",
   "metadata": {},
   "source": [
    "https://www.ncbi.nlm.nih.gov/geo/query/acc.cgi?acc=GSE111183"
   ]
  },
  {
   "cell_type": "code",
   "execution_count": null,
   "metadata": {},
   "outputs": [],
   "source": [
    "from __init__ import *"
   ]
  },
  {
   "cell_type": "code",
   "execution_count": null,
   "metadata": {},
   "outputs": [],
   "source": [
    "gse_id = \"GSE111183\""
   ]
  },
  {
   "cell_type": "code",
   "execution_count": null,
   "metadata": {},
   "outputs": [],
   "source": [
    "path_template = \"{}{}_{{}}_x_sample.tsv\".format(SETTING[\"directory_path\"], gse_id)"
   ]
  },
  {
   "cell_type": "code",
   "execution_count": null,
   "metadata": {},
   "outputs": [],
   "source": [
    "_x_sample_ = kraft.geo.get_gse(\n",
    "    gse_id, SETTING[\"directory_path\"], overwrite=SETTING[\"overwrite\"]\n",
    ")"
   ]
  },
  {
   "cell_type": "code",
   "execution_count": null,
   "metadata": {},
   "outputs": [],
   "source": [
    "binary_feature_x_sample = _x_sample_[2]\n",
    "\n",
    "binary_feature_x_sample.to_csv(path_template.format(\"binary_feature\"), sep=\"\\t\")\n",
    "\n",
    "binary_feature_x_sample"
   ]
  },
  {
   "cell_type": "code",
   "execution_count": null,
   "metadata": {},
   "outputs": [],
   "source": [
    "gene_x_sample = _x_sample_[3]\n",
    "\n",
    "gene_x_sample.to_csv(path_template.format(\"gene\"), sep=\"\\t\")\n",
    "\n",
    "gene_x_sample"
   ]
  }
 ],
 "metadata": {
  "kernelspec": {
   "display_name": "Python 3",
   "language": "python",
   "name": "python3"
  },
  "language_info": {
   "codemirror_mode": {
    "name": "ipython",
    "version": 3
   },
   "file_extension": ".py",
   "mimetype": "text/x-python",
   "name": "python",
   "nbconvert_exporter": "python",
   "pygments_lexer": "ipython3",
   "version": "3.7.8"
  }
 },
 "nbformat": 4,
 "nbformat_minor": 4
}
