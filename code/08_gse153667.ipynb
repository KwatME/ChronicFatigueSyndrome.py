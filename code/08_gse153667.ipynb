{
 "cells": [
  {
   "cell_type": "markdown",
   "metadata": {},
   "source": [
    "https://www.ncbi.nlm.nih.gov/geo/query/acc.cgi?acc=GSE153667"
   ]
  },
  {
   "cell_type": "code",
   "execution_count": null,
   "metadata": {},
   "outputs": [],
   "source": [
    "from __init__ import *"
   ]
  },
  {
   "cell_type": "code",
   "execution_count": null,
   "metadata": {},
   "outputs": [],
   "source": [
    "gse_id = \"GSE153667\""
   ]
  },
  {
   "cell_type": "code",
   "execution_count": null,
   "metadata": {},
   "outputs": [],
   "source": [
    "path_template = \"{}{}_{{}}_x_sample.tsv\".format(SETTING[\"directory_path\"], gse_id)"
   ]
  },
  {
   "cell_type": "code",
   "execution_count": null,
   "metadata": {},
   "outputs": [],
   "source": [
    "_x_sample_ = kraft.geo.get_gse(\n",
    "    gse_id, SETTING[\"directory_path\"], overwrite=SETTING[\"overwrite\"]\n",
    ")"
   ]
  },
  {
   "cell_type": "code",
   "execution_count": null,
   "metadata": {},
   "outputs": [],
   "source": [
    "binary_feature_x_sample = _x_sample_[2]\n",
    "\n",
    "binary_feature_x_sample.to_csv(path_template.format(\"binary_feature\"), sep=\"\\t\")\n",
    "\n",
    "binary_feature_x_sample"
   ]
  },
  {
   "cell_type": "code",
   "execution_count": null,
   "metadata": {},
   "outputs": [],
   "source": [
    "file_path = kraft.internet.download(\n",
    "    \"https://ftp.ncbi.nlm.nih.gov/geo/series/GSE153nnn/GSE153667/suppl/GSE153667%5FDMAP%5Fmatrix%2Ecsv%2Egz\",\n",
    "    SETTING[\"directory_path\"],\n",
    "    overwrite=SETTING[\"overwrite\"],\n",
    ")"
   ]
  },
  {
   "cell_type": "code",
   "execution_count": null,
   "metadata": {},
   "outputs": [],
   "source": [
    "gene_x_sample = pd.read_csv(file_path, index_col=6).drop(\n",
    "    labels=[\n",
    "        \"chr\",\n",
    "        \"Start\",\n",
    "        \"End\",\n",
    "        \"Pr\",\n",
    "        \"Test\",\n",
    "        \"Overlap\",\n",
    "        \"Control\",\n",
    "        \"Patient\",\n",
    "        \"Difference\",\n",
    "        \"Len\",\n",
    "        \"CpGs\",\n",
    "    ],\n",
    "    axis=1,\n",
    ")\n",
    "\n",
    "gene_x_sample.columns = binary_feature_x_sample.columns\n",
    "\n",
    "gene_x_sample.index = kraft.name_biology.name_gene(gene_x_sample.index.to_numpy())\n",
    "\n",
    "gene_x_sample.index.name = \"Gene\"\n",
    "\n",
    "gene_x_sample = kraft.pd.collapse(gene_x_sample)\n",
    "\n",
    "gene_x_sample.to_csv(path_template.format(\"gene\"), sep=\"\\t\")\n",
    "\n",
    "gene_x_sample"
   ]
  }
 ],
 "metadata": {
  "kernelspec": {
   "display_name": "Python 3",
   "language": "python",
   "name": "python3"
  },
  "language_info": {
   "codemirror_mode": {
    "name": "ipython",
    "version": 3
   },
   "file_extension": ".py",
   "mimetype": "text/x-python",
   "name": "python",
   "nbconvert_exporter": "python",
   "pygments_lexer": "ipython3",
   "version": "3.7.8"
  }
 },
 "nbformat": 4,
 "nbformat_minor": 4
}
