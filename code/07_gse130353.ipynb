{
 "cells": [
  {
   "cell_type": "markdown",
   "metadata": {},
   "source": [
    "https://www.ncbi.nlm.nih.gov/geo/query/acc.cgi?acc=GSE130353"
   ]
  },
  {
   "cell_type": "code",
   "execution_count": null,
   "metadata": {},
   "outputs": [],
   "source": [
    "from __init__ import *"
   ]
  },
  {
   "cell_type": "code",
   "execution_count": null,
   "metadata": {},
   "outputs": [],
   "source": [
    "gse_id = \"GSE130353\""
   ]
  },
  {
   "cell_type": "code",
   "execution_count": null,
   "metadata": {},
   "outputs": [],
   "source": [
    "path_template = \"{}{}_{{}}_x_sample.tsv\".format(SETTING[\"directory_path\"], gse_id)"
   ]
  },
  {
   "cell_type": "code",
   "execution_count": null,
   "metadata": {},
   "outputs": [],
   "source": [
    "_x_sample_ = kraft.geo.get_gse(\n",
    "    gse_id, SETTING[\"directory_path\"], overwrite=SETTING[\"overwrite\"]\n",
    ")"
   ]
  },
  {
   "cell_type": "code",
   "execution_count": null,
   "metadata": {},
   "outputs": [],
   "source": [
    "binary_feature_x_sample = _x_sample_[2]\n",
    "\n",
    "binary_feature_x_sample.to_csv(path_template.format(\"binary_feature\"), sep=\"\\t\")\n",
    "\n",
    "binary_feature_x_sample"
   ]
  },
  {
   "cell_type": "code",
   "execution_count": null,
   "metadata": {},
   "outputs": [],
   "source": [
    "file_path = kraft.internet.download(\n",
    "    \"https://www.ncbi.nlm.nih.gov/geo/download/?acc=GSE130353&format=file\",\n",
    "    SETTING[\"directory_path\"],\n",
    "    name=\"{}_RAW.tar\".format(gse_id),\n",
    "    overwrite=SETTING[\"overwrite\"],\n",
    ")"
   ]
  },
  {
   "cell_type": "code",
   "execution_count": null,
   "metadata": {},
   "outputs": [],
   "source": [
    "sample_ = []\n",
    "\n",
    "with tarfile.open(file_path) as io:\n",
    "\n",
    "    for tarinfo in io:\n",
    "\n",
    "        transcript_n_ = pd.read_csv(\n",
    "            io.extractfile(tarinfo),\n",
    "            compression=\"gzip\",\n",
    "            skiprows=1,\n",
    "            sep=\"\\t\",\n",
    "            index_col=0,\n",
    "        ).iloc[:, 6]\n",
    "\n",
    "        transcript_n_.name = tarinfo.name.split(sep=\"_\")[1]\n",
    "\n",
    "        sample_.append(transcript_n_)\n",
    "\n",
    "gene_x_sample = pd.DataFrame(data=sample_).T\n",
    "\n",
    "gene_x_sample.index = kraft.name_biology.name_gene(gene_x_sample.index.to_numpy())\n",
    "\n",
    "gene_x_sample.index.name = \"Gene\"\n",
    "\n",
    "gene_x_sample = kraft.pd.collapse(gene_x_sample)\n",
    "\n",
    "gene_x_sample.to_csv(path_template.format(\"gene\"), sep=\"\\t\")\n",
    "\n",
    "gene_x_sample"
   ]
  }
 ],
 "metadata": {
  "kernelspec": {
   "display_name": "Python 3",
   "language": "python",
   "name": "python3"
  },
  "language_info": {
   "codemirror_mode": {
    "name": "ipython",
    "version": 3
   },
   "file_extension": ".py",
   "mimetype": "text/x-python",
   "name": "python",
   "nbconvert_exporter": "python",
   "pygments_lexer": "ipython3",
   "version": "3.7.8"
  }
 },
 "nbformat": 4,
 "nbformat_minor": 4
}
