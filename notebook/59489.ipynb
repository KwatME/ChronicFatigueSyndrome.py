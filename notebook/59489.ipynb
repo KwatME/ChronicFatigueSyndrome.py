{
 "cells": [
  {
   "cell_type": "code",
   "execution_count": null,
   "metadata": {},
   "outputs": [],
   "source": [
    "%load_ext autoreload\n",
    "%autoreload 2"
   ]
  },
  {
   "cell_type": "code",
   "execution_count": null,
   "metadata": {},
   "outputs": [],
   "source": [
    "import pandas as pd\n",
    "\n",
    "import kraft"
   ]
  },
  {
   "cell_type": "code",
   "execution_count": null,
   "metadata": {},
   "outputs": [],
   "source": [
    "data_directory_path = \"../data/\""
   ]
  },
  {
   "cell_type": "markdown",
   "metadata": {},
   "source": [
    "https://www.ncbi.nlm.nih.gov/geo/query/acc.cgi?acc=GSE59489"
   ]
  },
  {
   "cell_type": "code",
   "execution_count": null,
   "metadata": {},
   "outputs": [],
   "source": [
    "_x_samples = kraft.geo.get_gse(\"GSE59489\", data_directory_path, overwrite=False)"
   ]
  },
  {
   "cell_type": "code",
   "execution_count": null,
   "metadata": {},
   "outputs": [],
   "source": [
    "feature_x_sample = _x_samples[0]\n",
    "\n",
    "feature_x_sample"
   ]
  },
  {
   "cell_type": "code",
   "execution_count": null,
   "metadata": {},
   "outputs": [],
   "source": [
    "file_path = kraft.internet.download(\n",
    "    \"https://www.ncbi.nlm.nih.gov/geo/download/?acc=GSE59489&format=file&file=GSE59489%5Fnon%5Fnormalized%2Etxt%2Egz\",\n",
    "    data_directory_path,\n",
    "    overwrite=False,\n",
    ")"
   ]
  },
  {
   "cell_type": "code",
   "execution_count": null,
   "metadata": {},
   "outputs": [],
   "source": [
    "id_x_sample = pd.read_csv(file_path, sep=\"\\t\", index_col=0)\n",
    "\n",
    "id_x_sample.index = kraft.name_biology.name_genes(id_x_sample.index.to_numpy())\n",
    "\n",
    "id_x_sample.index.name = \"Gene\"\n",
    "\n",
    "gene_x_sample = id_x_sample\n",
    "\n",
    "del id_x_sample\n",
    "\n",
    "print(gene_x_sample.shape)\n",
    "\n",
    "gene_x_sample = gene_x_sample.loc[~gene_x_sample.index.isna(), :]\n",
    "\n",
    "print(gene_x_sample.shape)\n",
    "\n",
    "# TODO: make signal\n",
    "\n",
    "# TODO: groupby gene\n",
    "\n",
    "gene_x_sample"
   ]
  }
 ],
 "metadata": {
  "kernelspec": {
   "display_name": "Python 3",
   "language": "python",
   "name": "python3"
  },
  "language_info": {
   "codemirror_mode": {
    "name": "ipython",
    "version": 3
   },
   "file_extension": ".py",
   "mimetype": "text/x-python",
   "name": "python",
   "nbconvert_exporter": "python",
   "pygments_lexer": "ipython3",
   "version": "3.7.8"
  }
 },
 "nbformat": 4,
 "nbformat_minor": 4
}
